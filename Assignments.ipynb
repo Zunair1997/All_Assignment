{
 "cells": [
  {
   "cell_type": "code",
   "execution_count": 1,
   "metadata": {},
   "outputs": [
    {
     "name": "stdout",
     "output_type": "stream",
     "text": [
      "Twinkle, twinkle, little star,\n",
      "\tHow I wonder what you are! \n",
      "\t\tUp above the world so high, \n",
      "\t\tLike a diamond in the sky. \n",
      "Twinkle, twinkle, little star, \n",
      "\tHow I wonder what you are!\n"
     ]
    }
   ],
   "source": [
    "print(\"Twinkle, twinkle, little star,\\n\\tHow I wonder what you are! \\n\\t\\tUp above the world so high, \\n\\t\\tLike a diamond in the sky. \\nTwinkle, twinkle, little star, \\n\\tHow I wonder what you are!\")"
   ]
  },
  {
   "cell_type": "code",
   "execution_count": 2,
   "metadata": {},
   "outputs": [
    {
     "name": "stdout",
     "output_type": "stream",
     "text": [
      "Python version\n",
      "3.7.4 (default, Aug  9 2019, 18:34:13) [MSC v.1915 64 bit (AMD64)]\n"
     ]
    }
   ],
   "source": [
    "\n",
    "import sys\n",
    "print(\"Python version\")\n",
    "print (sys.version)"
   ]
  },
  {
   "cell_type": "code",
   "execution_count": 3,
   "metadata": {},
   "outputs": [
    {
     "name": "stdout",
     "output_type": "stream",
     "text": [
      "Current date and time : \n",
      "2019-12-18 21:05:57\n"
     ]
    }
   ],
   "source": [
    "\n",
    "import datetime\n",
    "now = datetime.datetime.now()\n",
    "print (\"Current date and time : \")\n",
    "print (now.strftime(\"%Y-%m-%d %H:%M:%S\"))"
   ]
  },
  {
   "cell_type": "code",
   "execution_count": 4,
   "metadata": {},
   "outputs": [
    {
     "name": "stdout",
     "output_type": "stream",
     "text": [
      "Write the radius of the circle : 2\n",
      "The area of the circle with radius 2.0 is: 12.566370614359172\n"
     ]
    }
   ],
   "source": [
    "from math import pi\n",
    "radius = float(input (\"Write the radius of the circle : \"))\n",
    "print (\"The area of the circle with radius \" + str(radius) + \" is: \" + str(pi * radius**2))"
   ]
  },
  {
   "cell_type": "code",
   "execution_count": 5,
   "metadata": {},
   "outputs": [
    {
     "name": "stdout",
     "output_type": "stream",
     "text": [
      "Write your First Name : zunair\n",
      "Write your Last Name : khan\n",
      "khan zunair\n"
     ]
    }
   ],
   "source": [
    "\n",
    "firstname = input(\"Write your First Name : \")\n",
    "lastname = input(\"Write your Last Name : \")\n",
    "print ( lastname + \" \" + firstname)"
   ]
  },
  {
   "cell_type": "code",
   "execution_count": 6,
   "metadata": {},
   "outputs": [
    {
     "name": "stdout",
     "output_type": "stream",
     "text": [
      "Enter first number: 2\n",
      "Enter second number: 4\n",
      "The sum of 2 and 4 is 6.0\n"
     ]
    }
   ],
   "source": [
    "num1 = input('Enter first number: ')\n",
    "num2 = input('Enter second number: ')\n",
    "sum = float(num1) + float(num2)\n",
    "print('The sum of {0} and {1} is {2}'.format(num1, num2, sum))"
   ]
  },
  {
   "cell_type": "code",
   "execution_count": 8,
   "metadata": {},
   "outputs": [
    {
     "name": "stdout",
     "output_type": "stream",
     "text": [
      "Enter marks of maths: 80 \n",
      "Enter marks of urdu: 50\n",
      "Enter marks of sindhi: 70\n",
      "Enter marks of english: 65\n",
      "Enter marks of science: 85\n",
      "Grade: C\n"
     ]
    }
   ],
   "source": [
    "\n",
    "maths=int(input(\"Enter marks of maths: \"))\n",
    "urdu=int(input(\"Enter marks of urdu: \"))\n",
    "sindhi=int(input(\"Enter marks of sindhi: \"))\n",
    "english=int(input(\"Enter marks of english: \"))\n",
    "science=int(input(\"Enter marks of science: \"))\n",
    "avg=(maths+urdu+sindhi+english+science)/5\n",
    "if(avg>=90 ):\n",
    "    print(\"Grade: A\")\n",
    "elif(avg>=80 and avg<90):\n",
    "    print(\"Grade: B\")\n",
    "elif(avg>=70 and avg<80):\n",
    "    print(\"Grade: C\")\n",
    "elif(avg>=60 and avg<70):\n",
    "    print(\"Grade: D\")\n",
    "else:\n",
    "    print(\"Grade: F\")"
   ]
  },
  {
   "cell_type": "code",
   "execution_count": 9,
   "metadata": {},
   "outputs": [
    {
     "name": "stdout",
     "output_type": "stream",
     "text": [
      "Enter a number: 5\n",
      "5 is Odd Number\n"
     ]
    }
   ],
   "source": [
    "number = int(input(\"Enter a number: \"))\n",
    "if (number % 2) == 0:\n",
    "   print(\"{0} is Even Number\".format(number))\n",
    "else:\n",
    "   print(\"{0} is Odd Number\".format(number))"
   ]
  },
  {
   "cell_type": "code",
   "execution_count": 10,
   "metadata": {},
   "outputs": [
    {
     "name": "stdout",
     "output_type": "stream",
     "text": [
      "Length of given list is:  9\n"
     ]
    }
   ],
   "source": [
    "length=[1,3,4,8,9,10,12,14,16]\n",
    "print(\"Length of given list is: \",len(length))"
   ]
  },
  {
   "cell_type": "code",
   "execution_count": 11,
   "metadata": {},
   "outputs": [
    {
     "name": "stdout",
     "output_type": "stream",
     "text": [
      "Sum of all elements in given list is:  150\n"
     ]
    }
   ],
   "source": [
    "sum = 0\n",
    "lis = [10,20,30,40,50]  \n",
    "   \n",
    "for ele in range(0, len(lis)): \n",
    "    sum = sum + lis[ele]\n",
    "\n",
    "print(\"Sum of all elements in given list is: \", sum)"
   ]
  },
  {
   "cell_type": "code",
   "execution_count": 12,
   "metadata": {},
   "outputs": [
    {
     "name": "stdout",
     "output_type": "stream",
     "text": [
      "Largest element is: 50\n"
     ]
    }
   ],
   "source": [
    "list = [10,20,30,40,50] \n",
    "list.sort() \n",
    "   \n",
    "print(\"Largest element is:\", list[-1])"
   ]
  },
  {
   "cell_type": "code",
   "execution_count": 13,
   "metadata": {},
   "outputs": [
    {
     "name": "stdout",
     "output_type": "stream",
     "text": [
      "1\n",
      "1\n",
      "2\n",
      "3\n"
     ]
    }
   ],
   "source": [
    "a = [1, 1, 2, 3, 5, 8, 13, 21, 34, 55, 89]\n",
    "\n",
    "for i in a:\n",
    "\n",
    "    if i < 5:\n",
    "\n",
    "        print(i)"
   ]
  },
  {
   "cell_type": "code",
   "execution_count": 14,
   "metadata": {},
   "outputs": [
    {
     "name": "stdout",
     "output_type": "stream",
     "text": [
      "Select operation.\n",
      "1.Power\n",
      "2.Add\n",
      "3.Subtract\n",
      "4.Multiply\n",
      "5.Divide\n",
      "Enter choice(1/2/3/4/5): 3\n",
      "Enter first number: 2\n",
      "Enter second number: 2\n",
      "2.0 - 2.0 = 0.0\n"
     ]
    }
   ],
   "source": [
    "def power(x, y):\n",
    "    return x**y\n",
    "\n",
    "def add(x, y):\n",
    "   return x + y\n",
    "\n",
    "\n",
    "def subtract(x, y):\n",
    "   return x - y\n",
    "\n",
    "\n",
    "def multiply(x, y):\n",
    "   return x * y\n",
    "\n",
    "\n",
    "def divide(x, y):\n",
    "   return x / y\n",
    "\n",
    "print(\"Select operation.\")\n",
    "print(\"1.Power\")\n",
    "print(\"2.Add\")\n",
    "print(\"3.Subtract\")\n",
    "print(\"4.Multiply\")\n",
    "print(\"5.Divide\")\n",
    " \n",
    "choice = input(\"Enter choice(1/2/3/4/5): \")\n",
    "\n",
    "num1 = float(input(\"Enter first number: \"))\n",
    "num2 = float(input(\"Enter second number: \"))\n",
    "\n",
    "if choice == '1':\n",
    "   print(num1,\"^\",num2,\"=\", power(num1,num2))\n",
    "\n",
    "elif choice == '2':\n",
    "    print(num1,\"+\",num2, \"=\", add(num1,num2))\n",
    "    \n",
    "elif choice == '3':\n",
    "   print(num1,\"-\",num2,\"=\", subtract(num1,num2))\n",
    "\n",
    "elif choice == '4':\n",
    "   print(num1,\"*\",num2,\"=\", multiply(num1,num2))\n",
    "\n",
    "elif choice == '5':\n",
    "   print(num1,\"/\",num2,\"=\", divide(num1,num2))\n",
    "else:\n",
    "   print(\"Invalid input\")"
   ]
  },
  {
   "cell_type": "code",
   "execution_count": 15,
   "metadata": {},
   "outputs": [
    {
     "name": "stdout",
     "output_type": "stream",
     "text": [
      "Yes it contain numeric values\n"
     ]
    }
   ],
   "source": [
    "values=[\"Muhammad Aqib Memon\",7,'a',\"Long\",4.0]\n",
    "count=0;\n",
    "for check in values:\n",
    "    if type(check) is int or type(check) is float :\n",
    "        count+=1\n",
    "if count>0:\n",
    "    print(\"Yes it contain numeric values\")"
   ]
  },
  {
   "cell_type": "code",
   "execution_count": 17,
   "metadata": {},
   "outputs": [
    {
     "name": "stdout",
     "output_type": "stream",
     "text": [
      "{'name': 'Muhammad', 'caste': 'Zunair'}\n",
      "{'name': 'Muhammad', 'caste': 'Zunair', 'address': 'Hyderabad'}\n"
     ]
    }
   ],
   "source": [
    "info={\n",
    "    \"name\" : \"Muhammad\",\n",
    "    \"caste\" : \"Zunair\"\n",
    "}\n",
    "\n",
    "print(info)\n",
    "\n",
    "info[\"address\"]=\"Hyderabad\"\n",
    "\n",
    "print(info)"
   ]
  },
  {
   "cell_type": "code",
   "execution_count": 18,
   "metadata": {},
   "outputs": [
    {
     "name": "stdout",
     "output_type": "stream",
     "text": [
      "the sum od the numeric values in dictionary is  31\n"
     ]
    }
   ],
   "source": [
    "values={\n",
    "    1:\"Zunair\",\n",
    "    \"a\" : 20,\n",
    "    3 : 7\n",
    "}\n",
    "\n",
    "sum=0\n",
    "\n",
    "for key,value in values.items() :\n",
    "    if type(value) is int or type(value) is float :\n",
    "        sum+=value\n",
    "    if type(key) is int or type(key) is float :\n",
    "        sum+=key\n",
    "        \n",
    "\n",
    "print(\"the sum od the numeric values in dictionary is \",sum)"
   ]
  },
  {
   "cell_type": "code",
   "execution_count": 19,
   "metadata": {},
   "outputs": [
    {
     "name": "stdout",
     "output_type": "stream",
     "text": [
      "repeated values: Saqib "
     ]
    }
   ],
   "source": [
    "list1=[\"Same\",\"Saqib\",\"Soomro\",\"ALi\",\"Saqib\",\"Aqib\"]\n",
    "list2=[]\n",
    "print(\"repeated values:\" , end=\" \")\n",
    "for value in list1 :\n",
    "    if value in list2 :\n",
    "        print(value ,end=\" \" )\n",
    "    else :\n",
    "        list2.append(value)"
   ]
  },
  {
   "cell_type": "code",
   "execution_count": 21,
   "metadata": {},
   "outputs": [
    {
     "name": "stdout",
     "output_type": "stream",
     "text": [
      "Enter key 1\n",
      "Already exist \n"
     ]
    }
   ],
   "source": [
    "abc={\n",
    "    1 : \"A\",\n",
    "    2 : \"B\",\n",
    "    3 : \"C\",\n",
    "    4 : \"D\",\n",
    "    5 : \"E\",\n",
    "    6 : \"F\"\n",
    "}\n",
    "\n",
    "key=int(input(\"Enter key \"))\n",
    "\n",
    "if key in abc.keys() :\n",
    "    print(\"Already exist \")\n",
    "else:\n",
    "    print(\"do not exist\")"
   ]
  },
  {
   "cell_type": "code",
   "execution_count": 22,
   "metadata": {},
   "outputs": [
    {
     "name": "stdout",
     "output_type": "stream",
     "text": [
      "Friend's First Name: Muhammad\n",
      "Friend's Last Name: Zunair\n",
      "Friend's Age: 22\n",
      "Friend's City: Hyderabad\n",
      "\n",
      " {'First Name': 'Muhammad', 'Last Name': 'Zunair', 'Age': 22, 'City': 'Hyderabad'} \n",
      "\n",
      "{'First Name': 'Muhammad', 'Last Name': 'Zunair', 'Age': 22, 'City': 'Hyderabad', 'Qualification': 'Undergraduate'} \n",
      "\n",
      "{'First Name': 'Muhammad', 'Last Name': 'Zunair', 'Age': 22, 'City': 'Hyderabad', 'Qualification': 'Post Graduate'} \n",
      "\n",
      "{'First Name': 'Muhammad', 'Last Name': 'Zunair', 'Age': 22, 'City': 'Hyderabad'}\n"
     ]
    }
   ],
   "source": [
    "person = {\n",
    "        \"First Name\" : \"Muhammad\",\n",
    "        \"Last Name\" : \"Zunair\",\n",
    "        \"Age\" : 22,\n",
    "        \"City\" : \"Hyderabad\"\n",
    "}\n",
    "for key, value in person.items():\n",
    "    print(\"Friend's \" + key + \": \" + str(value)) \n",
    "print(\"\\n\",person,\"\\n\")\n",
    "\n",
    "person[\"Qualification\"] = \"Undergraduate\"\n",
    "print(person,\"\\n\")\n",
    "\n",
    "\n",
    "person[\"Qualification\"] = \"Post Graduate\"\n",
    "print(person,\"\\n\")\n",
    "\n",
    "del person[\"Qualification\"]\n",
    "print(person)"
   ]
  },
  {
   "cell_type": "code",
   "execution_count": 23,
   "metadata": {},
   "outputs": [
    {
     "name": "stdout",
     "output_type": "stream",
     "text": [
      "City Name:  Karachi \n",
      "\n",
      "Country of Karachi: Pakistan\n",
      "Population of Karachi: 14.91 million\n",
      "Fact of Karachi: It isone of the most densely populated cities in the world with a diverse and multicultural population drawn to the opportunities for employment and business \n",
      "\n",
      "\n",
      "City Name:  Dhaka \n",
      "\n",
      "Country of Dhaka: Bangladesh\n",
      "Population of Dhaka: 8.906 million\n",
      "Fact of Dhaka: It is worst known for traffic. \n",
      "\n",
      "\n",
      "City Name:  Mumbai \n",
      "\n",
      "Country of Mumbai: India\n",
      "Population of Mumbai: 18.41 million\n",
      "Fact of Mumbai: Mumbai was the first one to start a bus service in India \n",
      "\n",
      "\n"
     ]
    }
   ],
   "source": [
    "#Question no : 02\n",
    "\n",
    "cities = {\n",
    "    \"Karachi\" : {\n",
    "        \n",
    "        \"Country\" : \"Pakistan\",\n",
    "        \"Population\" : \"14.91 million\",\n",
    "        \"Fact\" : \"It isone of the most densely populated cities in the world with a diverse and multicultural population drawn to the opportunities for employment and business \"\n",
    "        \n",
    "        },\n",
    "    \"Dhaka\" : {\n",
    "            \n",
    "        \"Country\" : \"Bangladesh\",\n",
    "        \"Population\" : \"8.906 million\",\n",
    "        \"Fact\" : \"It is worst known for traffic. \"\n",
    "        \n",
    "        },\n",
    "    \"Mumbai\" : {\n",
    "            \n",
    "        \"Country\" : \"India\",\n",
    "        \"Population\" : \"18.41 million\",\n",
    "        \"Fact\" : \"Mumbai was the first one to start a bus service in India \"\n",
    "        \n",
    "        }\n",
    "}\n",
    "for key in cities.keys():\n",
    "    print(\"City Name: \",key,\"\\n\")\n",
    "    \n",
    "    for ekey,evalue in cities[key].items():\n",
    "        print(ekey+\" of \"+key+\": \"+evalue)\n",
    "    print(\"\\n\")"
   ]
  },
  {
   "cell_type": "code",
   "execution_count": 24,
   "metadata": {},
   "outputs": [
    {
     "name": "stdout",
     "output_type": "stream",
     "text": [
      "Enter Your Age 22\n",
      "Your ticket charges are $15.\n"
     ]
    }
   ],
   "source": [
    "age = 0,\n",
    "\n",
    "for a in age:\n",
    "    a = int(input(\"Enter Your Age \"))\n",
    "\n",
    "    if a <= 3 :\n",
    "        print(\"The ticket is free for you.\")\n",
    "\n",
    "    elif a > 3 and a <= 12 :\n",
    "        print(\"Your ticket charges are $10.\")\n",
    "\n",
    "    elif a >12 :\n",
    "        print(\"Your ticket charges are $15.\")\n",
    "        \n",
    "    else:\n",
    "        print (\"Sorry ,you are not allowed\")"
   ]
  },
  {
   "cell_type": "code",
   "execution_count": 25,
   "metadata": {},
   "outputs": [
    {
     "name": "stdout",
     "output_type": "stream",
     "text": [
      "One of my favorite books is A Smarter Way to Learn Python by Mark Myers.\n"
     ]
    }
   ],
   "source": [
    "\n",
    "#Question no : 04\n",
    "\n",
    "def favorate_book(title):\n",
    "    title1 = \"One of my favorite books is \"\n",
    "    total = title1 + title\n",
    "    print(total)\n",
    "\n",
    "favorate_book(\"A Smarter Way to Learn Python by Mark Myers.\")"
   ]
  },
  {
   "cell_type": "code",
   "execution_count": 26,
   "metadata": {},
   "outputs": [
    {
     "name": "stdout",
     "output_type": "stream",
     "text": [
      "You have three chances to guess the number generated by computer between 1 to 30 \n",
      "\n",
      "Guess the Number 2\n",
      "\n",
      "Given number is less than the hidden number.\n",
      "1st guess  is over\n",
      "\n",
      "Guess the Number 4\n",
      "\n",
      "Given number is less than the hidden number.\n",
      "2nd guess is over\n",
      "\n",
      "Guess the Number 29\n",
      "\n",
      "Given number is greater than the hidden number.\n",
      "3rd guess is over\n",
      "\n",
      "\n",
      "You Lost, no more chances left\n",
      "Hidden number is  16\n"
     ]
    }
   ],
   "source": [
    "#Question no : 05\n",
    "\n",
    "import random\n",
    "num = random.randrange(1,30)\n",
    "chances = [\"1st guess \",\"2nd guess\",\"3rd guess\"]\n",
    "\n",
    "print(\"You have three chances to guess the number generated by computer between 1 to 30 \\n\")\n",
    "\n",
    "for a in chances:\n",
    "   \n",
    "    gnum = int(input(\"Guess the Number \"))\n",
    "    \n",
    "    if num != gnum:\n",
    "        if num > gnum:\n",
    "            print(\"\\nGiven number is less than the hidden number.\")\n",
    "            print(a, \"is over\\n\")\n",
    "        if num < gnum:\n",
    "            print(\"\\nGiven number is greater than the hidden number.\")\n",
    "            print(a, \"is over\\n\")\n",
    "if num == gnum:\n",
    "        print(\"\\nYou have done this it\",a)\n",
    "        print(\"Congratulations, Your guess is correct.\")\n",
    "        print(\"Yeah You Won \\n\")\n",
    "if num != gnum:      \n",
    "    print(\"\\nYou Lost, no more chances left\\nHidden number is \",num)"
   ]
  },
  {
   "cell_type": "code",
   "execution_count": 27,
   "metadata": {},
   "outputs": [
    {
     "name": "stdout",
     "output_type": "stream",
     "text": [
      "Factorial of inserted number is:  40320\n"
     ]
    }
   ],
   "source": [
    "def factorial(a):\n",
    "    if a == 0:\n",
    "        return 1\n",
    "    else:\n",
    "        return a * factorial(a - 1)\n",
    "\n",
    "fact = factorial(8) \n",
    "print(\"Factorial of inserted number is: \", fact\n",
    "     )"
   ]
  },
  {
   "cell_type": "code",
   "execution_count": 28,
   "metadata": {},
   "outputs": [
    {
     "name": "stdout",
     "output_type": "stream",
     "text": [
      "Enter String to Check the  No. of upper and lower case letters: a\n",
      "Original String :  a\n",
      "No Up Case :  0\n",
      "No low Case :  1\n"
     ]
    }
   ],
   "source": [
    "def str_test(s):\n",
    "    d = {\"UP\" : 0, \"LOW\" : 0}\n",
    "    for b in s:\n",
    "        if b.isupper():\n",
    "            d[\"UP\"]+=1\n",
    "        elif b.islower():\n",
    "            d[\"LOW\"]+=1\n",
    "        else:\n",
    "            pass\n",
    "    print(\"Original String : \", s)\n",
    "    print(\"No Up Case : \", d[\"UP\"])\n",
    "    print(\"No low Case : \", d[\"LOW\"])\n",
    "Ostr = str(input(\"Enter String to Check the  No. of upper and lower case letters: \")) \n",
    "str_test(Ostr)"
   ]
  },
  {
   "cell_type": "code",
   "execution_count": 29,
   "metadata": {},
   "outputs": [
    {
     "name": "stdout",
     "output_type": "stream",
     "text": [
      "2\n",
      "4\n",
      "6\n",
      "8\n",
      "10\n",
      "12\n",
      "14\n",
      "16\n",
      "18\n",
      "20\n"
     ]
    }
   ],
   "source": [
    "nolist = [1,2,3,4,5,6,7,8,9,10,11,12,13,14,15,16,17,18,19,20]\n",
    "\n",
    "\n",
    "def enum(num):\n",
    "    for lst in num:\n",
    "        if lst%2 == 0:\n",
    "            print(lst)\n",
    "        else:\n",
    "            pass\n",
    "\n",
    "enum(nolist)"
   ]
  },
  {
   "cell_type": "code",
   "execution_count": 35,
   "metadata": {},
   "outputs": [
    {
     "name": "stdout",
     "output_type": "stream",
     "text": [
      "Write a word to Check whether the word is Palindrome or not: radar\n"
     ]
    },
    {
     "ename": "TypeError",
     "evalue": "'list' object is not callable",
     "output_type": "error",
     "traceback": [
      "\u001b[1;31m---------------------------------------------------------------------------\u001b[0m",
      "\u001b[1;31mTypeError\u001b[0m                                 Traceback (most recent call last)",
      "\u001b[1;32m<ipython-input-35-5eb4d2b7519e>\u001b[0m in \u001b[0;36m<module>\u001b[1;34m\u001b[0m\n\u001b[0;32m      9\u001b[0m \u001b[1;33m\u001b[0m\u001b[0m\n\u001b[0;32m     10\u001b[0m \u001b[0mgword\u001b[0m \u001b[1;33m=\u001b[0m \u001b[0mstr\u001b[0m\u001b[1;33m(\u001b[0m\u001b[0minput\u001b[0m\u001b[1;33m(\u001b[0m\u001b[1;34m\"Write a word to Check whether the word is Palindrome or not: \"\u001b[0m\u001b[1;33m)\u001b[0m\u001b[1;33m)\u001b[0m\u001b[1;33m\u001b[0m\u001b[1;33m\u001b[0m\u001b[0m\n\u001b[1;32m---> 11\u001b[1;33m \u001b[0mcheck_pal\u001b[0m\u001b[1;33m(\u001b[0m\u001b[0mgword\u001b[0m\u001b[1;33m)\u001b[0m\u001b[1;33m\u001b[0m\u001b[1;33m\u001b[0m\u001b[0m\n\u001b[0m",
      "\u001b[1;32m<ipython-input-35-5eb4d2b7519e>\u001b[0m in \u001b[0;36mcheck_pal\u001b[1;34m(word)\u001b[0m\n\u001b[0;32m      3\u001b[0m     \u001b[0mrev_word\u001b[0m \u001b[1;33m=\u001b[0m \u001b[0mreversed\u001b[0m\u001b[1;33m(\u001b[0m\u001b[0mword\u001b[0m\u001b[1;33m)\u001b[0m\u001b[1;33m\u001b[0m\u001b[1;33m\u001b[0m\u001b[0m\n\u001b[0;32m      4\u001b[0m \u001b[1;33m\u001b[0m\u001b[0m\n\u001b[1;32m----> 5\u001b[1;33m     \u001b[1;32mif\u001b[0m \u001b[0mlist\u001b[0m\u001b[1;33m(\u001b[0m\u001b[0mword\u001b[0m\u001b[1;33m)\u001b[0m\u001b[1;33m==\u001b[0m\u001b[0mlist\u001b[0m\u001b[1;33m(\u001b[0m\u001b[0mrev_word\u001b[0m\u001b[1;33m)\u001b[0m\u001b[1;33m:\u001b[0m\u001b[1;33m\u001b[0m\u001b[1;33m\u001b[0m\u001b[0m\n\u001b[0m\u001b[0;32m      6\u001b[0m         \u001b[0mprint\u001b[0m\u001b[1;33m(\u001b[0m\u001b[1;34m\"The word is a Palindrome.\"\u001b[0m\u001b[1;33m)\u001b[0m\u001b[1;33m\u001b[0m\u001b[1;33m\u001b[0m\u001b[0m\n\u001b[0;32m      7\u001b[0m     \u001b[1;32melse\u001b[0m\u001b[1;33m:\u001b[0m\u001b[1;33m\u001b[0m\u001b[1;33m\u001b[0m\u001b[0m\n",
      "\u001b[1;31mTypeError\u001b[0m: 'list' object is not callable"
     ]
    }
   ],
   "source": [
    "\n",
    "def check_pal(word):\n",
    "    word = word.casefold()\n",
    "    rev_word = reversed(word)\n",
    "    \n",
    "    if list(word)==list(rev_word):\n",
    "        print(\"The word is a Palindrome.\")\n",
    "    else:\n",
    "        print(\"The word is not a Palindrome.\")\n",
    "\n",
    "gword = str(input(\"Write a word to Check whether the word is Palindrome or not: \"))\n",
    "check_pal(gword)"
   ]
  },
  {
   "cell_type": "code",
   "execution_count": 36,
   "metadata": {},
   "outputs": [
    {
     "name": "stdout",
     "output_type": "stream",
     "text": [
      "Enter a number to Check whether the number is prime or not: 3\n",
      "3  is a Prime Number\n"
     ]
    }
   ],
   "source": [
    "def check_prime(pnum):\n",
    "    if pnum > 1:\n",
    "        for p in range(2, pnum): \n",
    "            if pnum % p == 0:\n",
    "                print(pnum, \" is not a Prime Number\")\n",
    "                print(p,\"x\",pnum//p, \" = \",pnum)\n",
    "                break\n",
    "            else:\n",
    "                print(pnum, \" is a Prime Number\")\n",
    "                break\n",
    "                \n",
    "    else:\n",
    "        print(pnum, \" is not a Prime Number\")\n",
    "        \n",
    "chnum = int(input(\"Enter a number to Check whether the number is prime or not: \"))\n",
    "check_prime(chnum)"
   ]
  },
  {
   "cell_type": "code",
   "execution_count": 37,
   "metadata": {},
   "outputs": [
    {
     "name": "stdout",
     "output_type": "stream",
     "text": [
      "My Shoping Items are:\n",
      "Pant\n",
      "Shirt\n",
      "Tie\n",
      "Jeans\n",
      "Perfume\n"
     ]
    }
   ],
   "source": [
    "def shopmall(*shopitems):\n",
    "    print(\"My Shoping Items are:\")\n",
    "    \n",
    "    for shoping in shopitems:\n",
    "        print(shoping)\n",
    "        \n",
    "shopmall(\"Pant\", \"Shirt\", \"Tie\", \"Jeans\", \"Perfume\")"
   ]
  },
  {
   "cell_type": "code",
   "execution_count": null,
   "metadata": {},
   "outputs": [],
   "source": []
  }
 ],
 "metadata": {
  "kernelspec": {
   "display_name": "Python 3",
   "language": "python",
   "name": "python3"
  },
  "language_info": {
   "codemirror_mode": {
    "name": "ipython",
    "version": 3
   },
   "file_extension": ".py",
   "mimetype": "text/x-python",
   "name": "python",
   "nbconvert_exporter": "python",
   "pygments_lexer": "ipython3",
   "version": "3.7.4"
  }
 },
 "nbformat": 4,
 "nbformat_minor": 2
}
