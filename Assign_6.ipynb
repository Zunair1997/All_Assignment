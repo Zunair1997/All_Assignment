{
 "cells": [
  {
   "cell_type": "code",
   "execution_count": 1,
   "metadata": {},
   "outputs": [
    {
     "name": "stdout",
     "output_type": "stream",
     "text": [
      "Object oriented programming language allow concepts such as abstraction,modularity,encapsulation,polymorphism and inheritance.Objects are said to be the most important part of object oriented language.Concepts resolves around making simulation programs around an object.\n"
     ]
    }
   ],
   "source": [
    "#Question:1\n",
    "print(\"Object oriented programming language allow concepts such as abstraction,modularity,encapsulation,polymorphism and inheritance.Objects are said to be the most important part of object oriented language.Concepts resolves around making simulation programs around an object.\")"
   ]
  },
  {
   "cell_type": "code",
   "execution_count": 2,
   "metadata": {},
   "outputs": [
    {
     "name": "stdout",
     "output_type": "stream",
     "text": [
      "1.Modularity for easier troubleshooting\n",
      "2.Reuse of code through inheritance\n",
      "3.Flexibility through polymorphism\n",
      "4.Effective problem solving \n"
     ]
    }
   ],
   "source": [
    "#Question:2\n",
    "print(\"1.Modularity for easier troubleshooting\\n2.Reuse of code through inheritance\\n3.Flexibility through polymorphism\\n4.Effective problem solving \")"
   ]
  },
  {
   "cell_type": "code",
   "execution_count": 3,
   "metadata": {},
   "outputs": [
    {
     "name": "stdout",
     "output_type": "stream",
     "text": [
      "FUNCTION:\n",
      "Function have independent existence means they can be defined outside of the class.\n",
      "Function are called independently.\n",
      "METHOD:\n",
      "Method do not have independent existance they are always defined within the class.\n",
      "Methods are called using instance or object.\n"
     ]
    }
   ],
   "source": [
    "#Question:3\n",
    "print(\"FUNCTION:\\nFunction have independent existence means they can be defined outside of the class.\\nFunction are called independently.\\nMETHOD:\\nMethod do not have independent existance they are always defined within the class.\\nMethods are called using instance or object.\")"
   ]
  },
  {
   "cell_type": "code",
   "execution_count": 4,
   "metadata": {},
   "outputs": [
    {
     "name": "stdout",
     "output_type": "stream",
     "text": [
      "1.A class is the blue print from which individual object are created.\n",
      "2.Object are the basic run-time entities in an object oriented programming.\n",
      "3.Attribute is a way to describe a shape or an object.\n",
      "4.Behavior modification can be define as a theory that explain learning in terms of the antecedents and cosequensesof behvior.\n"
     ]
    }
   ],
   "source": [
    "print(\"1.A class is the blue print from which individual object are created.\")\n",
    "print(\"2.Object are the basic run-time entities in an object oriented programming.\")\n",
    "print(\"3.Attribute is a way to describe a shape or an object.\")\n",
    "print(\"4.Behavior modification can be define as a theory that explain learning in terms of the antecedents and cosequensesof behvior.\")"
   ]
  },
  {
   "cell_type": "code",
   "execution_count": 5,
   "metadata": {},
   "outputs": [],
   "source": [
    "#Question:5\n",
    "class Car:\n",
    "    def __init__(self, year, make, speed):\n",
    "        self.__year_model = year\n",
    "        self.__make = make\n",
    "        self.__speed = 0\n",
    "\n",
    "    def set_year_model(self, year):\n",
    "        self.__year_model = year\n",
    "\n",
    "    def set_make(self, make):\n",
    "        self.__make = make\n",
    "\n",
    "    def set_speed(self, speed):\n",
    "        self.__speed = 0\n",
    "\n",
    "    def get_year_model(self):\n",
    "        return self.__year_model\n",
    "\n",
    "    def get_make(self):\n",
    "        return self.__make\n",
    "\n",
    "    def get_speed(self):\n",
    "        return self.__speed\n",
    "\n",
    "    #methods\n",
    "    def accelerate(self):\n",
    "        self.speed +=5\n",
    "\n",
    "    def brake(self):\n",
    "        self.speed -=5\n",
    "\n",
    "    def get_speed(self):\n",
    "        return self.speed"
   ]
  },
  {
   "cell_type": "code",
   "execution_count": null,
   "metadata": {},
   "outputs": [],
   "source": []
  }
 ],
 "metadata": {
  "kernelspec": {
   "display_name": "Python 3",
   "language": "python",
   "name": "python3"
  },
  "language_info": {
   "codemirror_mode": {
    "name": "ipython",
    "version": 3
   },
   "file_extension": ".py",
   "mimetype": "text/x-python",
   "name": "python",
   "nbconvert_exporter": "python",
   "pygments_lexer": "ipython3",
   "version": "3.7.4"
  }
 },
 "nbformat": 4,
 "nbformat_minor": 2
}
